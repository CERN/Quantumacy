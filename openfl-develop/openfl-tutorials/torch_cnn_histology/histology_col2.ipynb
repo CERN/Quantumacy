{
 "cells": [
  {
   "cell_type": "markdown",
   "metadata": {},
   "source": [
    "## 9. Make sure you have copied the workspace archive (.zip) from the aggregator node to the collaborator node."
   ]
  },
  {
   "cell_type": "code",
   "execution_count": null,
   "metadata": {},
   "outputs": [],
   "source": [
    "!pip install paramiko scp\n",
    "\n",
    "from paramiko import SSHClient, AutoAddPolicy\n",
    "from scp import SCPClient\n",
    "from pathlib import Path\n",
    "from getpass import getpass\n",
    "import os\n",
    "\n",
    "afqdn = # 'domain.example.com'\n",
    "workspace_src = # '/path/to/workspace'\n",
    "archive_name = 'workspace.zip'\n",
    "folder_name = archive_name.split('.')[0]\n",
    "workspace_dst = # '/root/path/for/workspace'\n",
    "src_user = # 'user'\n",
    "\n",
    "\n",
    "ssh_client = SSHClient()\n",
    "ssh_client.set_missing_host_key_policy(AutoAddPolicy())\n",
    "ssh_client.connect(afqdn, username=src_user, password=getpass(f'Enter {src_user}@{afqdn} password:'))\n",
    "scp = SCPClient(ssh_client.get_transport())\n",
    "os.makedirs(workspace_dst, exist_ok=True)\n",
    "scp.get(str(Path(workspace_src) / archive_name), workspace_dst)"
   ]
  },
  {
   "cell_type": "markdown",
   "metadata": {},
   "source": [
    "# 11. Import the workspace archive."
   ]
  },
  {
   "cell_type": "code",
   "execution_count": null,
   "metadata": {},
   "outputs": [],
   "source": [
    "%cd $workspace_dst\n",
    "!rm -rf $folder_name\n",
    "!fx workspace import --archive $archive_name\n",
    "%cd $folder_name"
   ]
  },
  {
   "cell_type": "markdown",
   "metadata": {},
   "source": [
    "## 13. Create a collaborator certificate request."
   ]
  },
  {
   "cell_type": "code",
   "execution_count": null,
   "metadata": {},
   "outputs": [],
   "source": [
    "!fx collaborator generate-cert-request -n two -d 2\n",
    "scp.put('col_two_to_agg_cert_request.zip', workspace_src)"
   ]
  },
  {
   "cell_type": "markdown",
   "metadata": {},
   "source": [
    "# Get signed certificates from the aggregator"
   ]
  },
  {
   "cell_type": "code",
   "execution_count": null,
   "metadata": {},
   "outputs": [],
   "source": [
    "scp.get(str(Path(workspace_src) / 'agg_to_col_two_signed_cert.zip'), '.')\n",
    "!fx collaborator certify --import agg_to_col_two_signed_cert.zip"
   ]
  },
  {
   "cell_type": "markdown",
   "metadata": {},
   "source": [
    "# Choose a device"
   ]
  },
  {
   "cell_type": "code",
   "execution_count": null,
   "metadata": {},
   "outputs": [],
   "source": [
    "%env CUDA_VISIBLE_DEVICES=1"
   ]
  },
  {
   "cell_type": "markdown",
   "metadata": {},
   "source": [
    "# Run the collaborator process"
   ]
  },
  {
   "cell_type": "code",
   "execution_count": null,
   "metadata": {},
   "outputs": [],
   "source": [
    "!fx collaborator start -n two"
   ]
  },
  {
   "cell_type": "code",
   "execution_count": null,
   "metadata": {},
   "outputs": [],
   "source": []
  }
 ],
 "metadata": {
  "kernelspec": {
   "display_name": "openfl",
   "language": "python",
   "name": "openfl"
  },
  "language_info": {
   "codemirror_mode": {
    "name": "ipython",
    "version": 3
   },
   "file_extension": ".py",
   "mimetype": "text/x-python",
   "name": "python",
   "nbconvert_exporter": "python",
   "pygments_lexer": "ipython3",
   "version": "3.6.9"
  }
 },
 "nbformat": 4,
 "nbformat_minor": 4
}
