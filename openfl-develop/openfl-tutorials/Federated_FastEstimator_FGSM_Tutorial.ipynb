{
 "cells": [
  {
   "cell_type": "markdown",
   "metadata": {},
   "source": [
    "# Federated FastEstimator FGSM Tutorial"
   ]
  },
  {
   "cell_type": "code",
   "execution_count": null,
   "metadata": {},
   "outputs": [],
   "source": [
    "#Install dependencies if not already installed\n",
    "!pip install tensorflow'>=2.3' torch'>=1.6' fastestimator"
   ]
  },
  {
   "cell_type": "code",
   "execution_count": null,
   "metadata": {},
   "outputs": [],
   "source": [
    "import fastestimator as fe\n",
    "import tempfile\n",
    "from fastestimator.architecture.pytorch import LeNet\n",
    "from fastestimator.backend import to_tensor, argmax\n",
    "from fastestimator.dataset.data import cifar10\n",
    "from fastestimator.op.numpyop.meta import Sometimes\n",
    "from fastestimator.op.numpyop.multivariate import HorizontalFlip\n",
    "from fastestimator.op.numpyop.univariate import CoarseDropout, Normalize, Onehot\n",
    "from fastestimator.op.tensorop import Average\n",
    "from fastestimator.op.tensorop.gradient import Watch, FGSM\n",
    "from fastestimator.op.tensorop.loss import CrossEntropy\n",
    "from fastestimator.op.tensorop.model import ModelOp, UpdateOp\n",
    "from fastestimator.trace.io import BestModelSaver\n",
    "from fastestimator.trace.metric import Accuracy\n",
    "from fastestimator.util import ImgData, to_number\n",
    "from openfl.native.fastestimator import FederatedFastEstimator\n",
    "from fastestimator.dataset.data import cifar10\n",
    "from fastestimator.trace.adapt import LRScheduler,ReduceLROnPlateau\n",
    "from fastestimator.op.numpyop.univariate import Normalize, ChannelTranspose\n",
    "\n",
    "batch_size=128\n",
    "\n",
    "train_data, eval_data = cifar10.load_data()\n",
    "test_data = eval_data.split(0.5)\n",
    "\n",
    "pipeline = fe.Pipeline(train_data=train_data,\n",
    "                     eval_data=eval_data,\n",
    "                     test_data=test_data,\n",
    "                     batch_size=batch_size,\n",
    "                     ops=[Normalize(inputs=\"x\", outputs=\"x\",\n",
    "                             mean=(0.4914, 0.4822, 0.4465), \n",
    "                             std=(0.2471, 0.2435, 0.2616)),\n",
    "                          ChannelTranspose(inputs=\"x\", outputs=\"x\")])\n",
    "model = fe.build(model_fn=lambda: LeNet(input_shape=(3, 32, 32)), \\\n",
    "                         optimizer_fn=\"adam\", model_name=\"adv_model\")\n",
    "\n",
    "network = fe.Network(ops=[\n",
    "                Watch(inputs=\"x\"),\n",
    "                ModelOp(model=model, inputs=\"x\", outputs=\"y_pred\"),\n",
    "                CrossEntropy(inputs=(\"y_pred\", \"y\"), outputs=\"base_ce\"),\n",
    "                FGSM(data=\"x\", loss=\"base_ce\", outputs=\"x_adverse\", epsilon=0.04),\n",
    "                ModelOp(model=model, inputs=\"x_adverse\", outputs=\"y_pred_adv\"),\n",
    "                CrossEntropy(inputs=(\"y_pred_adv\", \"y\"), outputs=\"adv_ce\"),\n",
    "                Average(inputs=(\"base_ce\", \"adv_ce\"), outputs=\"avg_ce\"),\n",
    "                UpdateOp(model=model, loss_name=\"avg_ce\")\n",
    "            ])\n",
    "\n",
    "estimator = fe.Estimator(pipeline=pipeline,\n",
    "                         network=network,\n",
    "                         epochs=1,\n",
    "                         traces=[Accuracy(true_key=\"y\", pred_key=\"y_pred\", output_name=\"clean_accuracy\"),\n",
    "                                Accuracy(true_key=\"y\", pred_key=\"y_pred_adv\", output_name=\"adversarial_accuracy\"),\n",
    "                                ReduceLROnPlateau(model=model,metric='base_ce',patience=2),\n",
    "                                BestModelSaver(model=model, save_dir=tempfile.mkdtemp(), metric=\"base_ce\", save_best_mode=\"min\",load_best_final=True),],\n",
    "                         max_train_steps_per_epoch=None,\n",
    "                         max_eval_steps_per_epoch=None,\n",
    "                         monitor_names=[\"base_ce\", \"adv_ce\"],\n",
    "                         log_steps=50)\n",
    "openfl_estimator = FederatedFastEstimator(estimator, override_config={'aggregator.settings.rounds_to_train':5})\n",
    "model=openfl_estimator.fit()"
   ]
  },
  {
   "cell_type": "code",
   "execution_count": null,
   "metadata": {},
   "outputs": [],
   "source": [
    "model.state_dict()"
   ]
  }
 ],
 "metadata": {
  "kernelspec": {
   "display_name": "demo_venv",
   "language": "python",
   "name": "demo_venv"
  },
  "language_info": {
   "codemirror_mode": {
    "name": "ipython",
    "version": 3
   },
   "file_extension": ".py",
   "mimetype": "text/x-python",
   "name": "python",
   "nbconvert_exporter": "python",
   "pygments_lexer": "ipython3",
   "version": "3.6.9"
  }
 },
 "nbformat": 4,
 "nbformat_minor": 4
}
